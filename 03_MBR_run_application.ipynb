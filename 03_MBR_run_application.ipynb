{
 "cells": [
  {
   "cell_type": "markdown",
   "metadata": {},
   "source": [
    "## Flask\n",
    "Our API will be served directly from our container using Flask, a popular Python Web Server.\n",
    "The Flask application, which will call our prediction function, is defined in the `wsgi.py` file."
   ]
  },
  {
   "cell_type": "markdown",
   "metadata": {},
   "source": [
    "As always, we'll first run some imports to make sure all our requirements are there:"
   ]
  },
  {
   "cell_type": "code",
   "execution_count": 1,
   "metadata": {
    "ExecuteTime": {
     "end_time": "2021-04-13T19:39:12.918898Z",
     "start_time": "2021-04-13T19:38:57.226296Z"
    },
    "tags": []
   },
   "outputs": [
    {
     "name": "stdout",
     "output_type": "stream",
     "text": [
      "Requirement already satisfied: notebook in /opt/app-root/lib/python3.9/site-packages (from -r requirements.txt (line 1)) (6.5.7)\n",
      "Requirement already satisfied: opencv-python in /opt/app-root/lib/python3.9/site-packages (from -r requirements.txt (line 2)) (4.10.0.84)\n",
      "Requirement already satisfied: requests in /opt/app-root/lib/python3.9/site-packages (from -r requirements.txt (line 3)) (2.32.2)\n",
      "Requirement already satisfied: pillow in /opt/app-root/lib/python3.9/site-packages (from -r requirements.txt (line 4)) (10.4.0)\n",
      "Requirement already satisfied: numpy in /opt/app-root/lib/python3.9/site-packages (from -r requirements.txt (line 5)) (2.0.2)\n",
      "Requirement already satisfied: flask in /opt/app-root/lib/python3.9/site-packages (from -r requirements.txt (line 6)) (3.0.3)\n",
      "Requirement already satisfied: gradio in /opt/app-root/lib/python3.9/site-packages (from -r requirements.txt (line 7)) (4.44.0)\n",
      "Requirement already satisfied: streamlit in /opt/app-root/lib/python3.9/site-packages (from -r requirements.txt (line 8)) (1.38.0)\n",
      "Requirement already satisfied: matplotlib in /opt/app-root/lib/python3.9/site-packages (from -r requirements.txt (line 9)) (3.9.2)\n",
      "Requirement already satisfied: websockets in /opt/app-root/lib/python3.9/site-packages (from -r requirements.txt (line 10)) (12.0)\n",
      "Requirement already satisfied: ipython-genutils in /opt/app-root/lib/python3.9/site-packages (from notebook->-r requirements.txt (line 1)) (0.2.0)\n",
      "Requirement already satisfied: jupyter-core>=4.6.1 in /opt/app-root/lib/python3.9/site-packages (from notebook->-r requirements.txt (line 1)) (5.7.2)\n",
      "Requirement already satisfied: nbformat in /opt/app-root/lib/python3.9/site-packages (from notebook->-r requirements.txt (line 1)) (5.10.4)\n",
      "Requirement already satisfied: nbclassic>=0.4.7 in /opt/app-root/lib/python3.9/site-packages (from notebook->-r requirements.txt (line 1)) (1.0.0)\n",
      "Requirement already satisfied: pyzmq>=17 in /opt/app-root/lib/python3.9/site-packages (from notebook->-r requirements.txt (line 1)) (26.0.3)\n",
      "Requirement already satisfied: ipykernel in /opt/app-root/lib/python3.9/site-packages (from notebook->-r requirements.txt (line 1)) (6.29.4)\n",
      "Requirement already satisfied: argon2-cffi in /opt/app-root/lib/python3.9/site-packages (from notebook->-r requirements.txt (line 1)) (23.1.0)\n",
      "Requirement already satisfied: traitlets>=4.2.1 in /opt/app-root/lib/python3.9/site-packages (from notebook->-r requirements.txt (line 1)) (5.14.3)\n",
      "Requirement already satisfied: jupyter-client<8,>=5.3.4 in /opt/app-root/lib/python3.9/site-packages (from notebook->-r requirements.txt (line 1)) (7.4.9)\n",
      "Requirement already satisfied: prometheus-client in /opt/app-root/lib/python3.9/site-packages (from notebook->-r requirements.txt (line 1)) (0.20.0)\n",
      "Requirement already satisfied: Send2Trash>=1.8.0 in /opt/app-root/lib/python3.9/site-packages (from notebook->-r requirements.txt (line 1)) (1.8.3)\n",
      "Requirement already satisfied: nbconvert>=5 in /opt/app-root/lib/python3.9/site-packages (from notebook->-r requirements.txt (line 1)) (7.16.4)\n",
      "Requirement already satisfied: tornado>=6.1 in /opt/app-root/lib/python3.9/site-packages (from notebook->-r requirements.txt (line 1)) (6.4)\n",
      "Requirement already satisfied: nest-asyncio>=1.5 in /opt/app-root/lib/python3.9/site-packages (from notebook->-r requirements.txt (line 1)) (1.6.0)\n",
      "Requirement already satisfied: terminado>=0.8.3 in /opt/app-root/lib/python3.9/site-packages (from notebook->-r requirements.txt (line 1)) (0.18.1)\n",
      "Requirement already satisfied: jinja2 in /opt/app-root/lib/python3.9/site-packages (from notebook->-r requirements.txt (line 1)) (3.1.4)\n",
      "Requirement already satisfied: charset-normalizer<4,>=2 in /opt/app-root/lib/python3.9/site-packages (from requests->-r requirements.txt (line 3)) (3.3.2)\n",
      "Requirement already satisfied: idna<4,>=2.5 in /opt/app-root/lib/python3.9/site-packages (from requests->-r requirements.txt (line 3)) (3.7)\n",
      "Requirement already satisfied: urllib3<3,>=1.21.1 in /opt/app-root/lib/python3.9/site-packages (from requests->-r requirements.txt (line 3)) (2.2.1)\n",
      "Requirement already satisfied: certifi>=2017.4.17 in /opt/app-root/lib/python3.9/site-packages (from requests->-r requirements.txt (line 3)) (2024.2.2)\n",
      "Requirement already satisfied: Werkzeug>=3.0.0 in /opt/app-root/lib/python3.9/site-packages (from flask->-r requirements.txt (line 6)) (3.0.4)\n",
      "Requirement already satisfied: blinker>=1.6.2 in /opt/app-root/lib/python3.9/site-packages (from flask->-r requirements.txt (line 6)) (1.8.2)\n",
      "Requirement already satisfied: importlib-metadata>=3.6.0 in /opt/app-root/lib/python3.9/site-packages (from flask->-r requirements.txt (line 6)) (7.1.0)\n",
      "Requirement already satisfied: click>=8.1.3 in /opt/app-root/lib/python3.9/site-packages (from flask->-r requirements.txt (line 6)) (8.1.7)\n",
      "Requirement already satisfied: itsdangerous>=2.1.2 in /opt/app-root/lib/python3.9/site-packages (from flask->-r requirements.txt (line 6)) (2.2.0)\n",
      "Requirement already satisfied: pyyaml<7.0,>=5.0 in /opt/app-root/lib/python3.9/site-packages (from gradio->-r requirements.txt (line 7)) (6.0.1)\n",
      "Requirement already satisfied: pandas<3.0,>=1.0 in /opt/app-root/lib/python3.9/site-packages (from gradio->-r requirements.txt (line 7)) (2.2.2)\n",
      "Requirement already satisfied: importlib-resources<7.0,>=1.3 in /opt/app-root/lib/python3.9/site-packages (from gradio->-r requirements.txt (line 7)) (6.4.5)\n",
      "Requirement already satisfied: ruff>=0.2.2 in /opt/app-root/lib/python3.9/site-packages (from gradio->-r requirements.txt (line 7)) (0.6.4)\n",
      "Requirement already satisfied: tomlkit==0.12.0 in /opt/app-root/lib/python3.9/site-packages (from gradio->-r requirements.txt (line 7)) (0.12.0)\n",
      "Requirement already satisfied: typer<1.0,>=0.12 in /opt/app-root/lib/python3.9/site-packages (from gradio->-r requirements.txt (line 7)) (0.12.5)\n",
      "Requirement already satisfied: uvicorn>=0.14.0 in /opt/app-root/lib/python3.9/site-packages (from gradio->-r requirements.txt (line 7)) (0.30.6)\n",
      "Requirement already satisfied: anyio<5.0,>=3.0 in /opt/app-root/lib/python3.9/site-packages (from gradio->-r requirements.txt (line 7)) (4.3.0)\n",
      "Requirement already satisfied: httpx>=0.24.1 in /opt/app-root/lib/python3.9/site-packages (from gradio->-r requirements.txt (line 7)) (0.27.2)\n",
      "Requirement already satisfied: gradio-client==1.3.0 in /opt/app-root/lib/python3.9/site-packages (from gradio->-r requirements.txt (line 7)) (1.3.0)\n",
      "Requirement already satisfied: typing-extensions~=4.0 in /opt/app-root/lib/python3.9/site-packages (from gradio->-r requirements.txt (line 7)) (4.11.0)\n",
      "Requirement already satisfied: aiofiles<24.0,>=22.0 in /opt/app-root/lib/python3.9/site-packages (from gradio->-r requirements.txt (line 7)) (22.1.0)\n",
      "Requirement already satisfied: python-multipart>=0.0.9 in /opt/app-root/lib/python3.9/site-packages (from gradio->-r requirements.txt (line 7)) (0.0.9)\n",
      "Requirement already satisfied: pydub in /opt/app-root/lib/python3.9/site-packages (from gradio->-r requirements.txt (line 7)) (0.25.1)\n",
      "Requirement already satisfied: markupsafe~=2.0 in /opt/app-root/lib/python3.9/site-packages (from gradio->-r requirements.txt (line 7)) (2.1.5)\n",
      "Requirement already satisfied: huggingface-hub>=0.19.3 in /opt/app-root/lib/python3.9/site-packages (from gradio->-r requirements.txt (line 7)) (0.24.7)\n",
      "Requirement already satisfied: packaging in /opt/app-root/lib/python3.9/site-packages (from gradio->-r requirements.txt (line 7)) (24.0)\n",
      "Requirement already satisfied: ffmpy in /opt/app-root/lib/python3.9/site-packages (from gradio->-r requirements.txt (line 7)) (0.4.0)\n",
      "Requirement already satisfied: fastapi<1.0 in /opt/app-root/lib/python3.9/site-packages (from gradio->-r requirements.txt (line 7)) (0.114.1)\n",
      "Requirement already satisfied: orjson~=3.0 in /opt/app-root/lib/python3.9/site-packages (from gradio->-r requirements.txt (line 7)) (3.10.7)\n",
      "Requirement already satisfied: pydantic>=2.0 in /opt/app-root/lib/python3.9/site-packages (from gradio->-r requirements.txt (line 7)) (2.9.1)\n",
      "Requirement already satisfied: semantic-version~=2.0 in /opt/app-root/lib/python3.9/site-packages (from gradio->-r requirements.txt (line 7)) (2.10.0)\n",
      "Requirement already satisfied: fsspec in /opt/app-root/lib/python3.9/site-packages (from gradio-client==1.3.0->gradio->-r requirements.txt (line 7)) (2024.9.0)\n",
      "Requirement already satisfied: pyarrow>=7.0 in /opt/app-root/lib/python3.9/site-packages (from streamlit->-r requirements.txt (line 8)) (17.0.0)\n",
      "Requirement already satisfied: toml<2,>=0.10.1 in /opt/app-root/lib/python3.9/site-packages (from streamlit->-r requirements.txt (line 8)) (0.10.2)\n",
      "Requirement already satisfied: rich<14,>=10.14.0 in /opt/app-root/lib/python3.9/site-packages (from streamlit->-r requirements.txt (line 8)) (13.8.1)\n",
      "Requirement already satisfied: tenacity<9,>=8.1.0 in /opt/app-root/lib/python3.9/site-packages (from streamlit->-r requirements.txt (line 8)) (8.5.0)\n",
      "Requirement already satisfied: watchdog<5,>=2.1.5 in /opt/app-root/lib/python3.9/site-packages (from streamlit->-r requirements.txt (line 8)) (4.0.2)\n",
      "Requirement already satisfied: altair<6,>=4.0 in /opt/app-root/lib/python3.9/site-packages (from streamlit->-r requirements.txt (line 8)) (5.4.1)\n",
      "Requirement already satisfied: pydeck<1,>=0.8.0b4 in /opt/app-root/lib/python3.9/site-packages (from streamlit->-r requirements.txt (line 8)) (0.9.1)\n",
      "Requirement already satisfied: gitpython!=3.1.19,<4,>=3.0.7 in /opt/app-root/lib/python3.9/site-packages (from streamlit->-r requirements.txt (line 8)) (3.1.43)\n",
      "Requirement already satisfied: cachetools<6,>=4.0 in /opt/app-root/lib/python3.9/site-packages (from streamlit->-r requirements.txt (line 8)) (5.5.0)\n",
      "Requirement already satisfied: protobuf<6,>=3.20 in /opt/app-root/lib/python3.9/site-packages (from streamlit->-r requirements.txt (line 8)) (5.28.1)\n",
      "Requirement already satisfied: python-dateutil>=2.7 in /opt/app-root/lib/python3.9/site-packages (from matplotlib->-r requirements.txt (line 9)) (2.9.0.post0)\n",
      "Requirement already satisfied: fonttools>=4.22.0 in /opt/app-root/lib/python3.9/site-packages (from matplotlib->-r requirements.txt (line 9)) (4.53.1)\n",
      "Requirement already satisfied: cycler>=0.10 in /opt/app-root/lib/python3.9/site-packages (from matplotlib->-r requirements.txt (line 9)) (0.12.1)\n",
      "Requirement already satisfied: contourpy>=1.0.1 in /opt/app-root/lib/python3.9/site-packages (from matplotlib->-r requirements.txt (line 9)) (1.3.0)\n",
      "Requirement already satisfied: pyparsing>=2.3.1 in /opt/app-root/lib/python3.9/site-packages (from matplotlib->-r requirements.txt (line 9)) (3.1.4)\n",
      "Requirement already satisfied: kiwisolver>=1.3.1 in /opt/app-root/lib/python3.9/site-packages (from matplotlib->-r requirements.txt (line 9)) (1.4.7)\n",
      "Requirement already satisfied: jsonschema>=3.0 in /opt/app-root/lib/python3.9/site-packages (from altair<6,>=4.0->streamlit->-r requirements.txt (line 8)) (4.22.0)\n",
      "Requirement already satisfied: narwhals>=1.5.2 in /opt/app-root/lib/python3.9/site-packages (from altair<6,>=4.0->streamlit->-r requirements.txt (line 8)) (1.7.0)\n",
      "Requirement already satisfied: sniffio>=1.1 in /opt/app-root/lib/python3.9/site-packages (from anyio<5.0,>=3.0->gradio->-r requirements.txt (line 7)) (1.3.1)\n",
      "Requirement already satisfied: exceptiongroup>=1.0.2 in /opt/app-root/lib/python3.9/site-packages (from anyio<5.0,>=3.0->gradio->-r requirements.txt (line 7)) (1.2.1)\n",
      "Requirement already satisfied: starlette<0.39.0,>=0.37.2 in /opt/app-root/lib/python3.9/site-packages (from fastapi<1.0->gradio->-r requirements.txt (line 7)) (0.38.5)\n",
      "Requirement already satisfied: gitdb<5,>=4.0.1 in /opt/app-root/lib/python3.9/site-packages (from gitpython!=3.1.19,<4,>=3.0.7->streamlit->-r requirements.txt (line 8)) (4.0.11)\n",
      "Requirement already satisfied: httpcore==1.* in /opt/app-root/lib/python3.9/site-packages (from httpx>=0.24.1->gradio->-r requirements.txt (line 7)) (1.0.5)\n",
      "Requirement already satisfied: h11<0.15,>=0.13 in /opt/app-root/lib/python3.9/site-packages (from httpcore==1.*->httpx>=0.24.1->gradio->-r requirements.txt (line 7)) (0.14.0)\n",
      "Requirement already satisfied: tqdm>=4.42.1 in /opt/app-root/lib/python3.9/site-packages (from huggingface-hub>=0.19.3->gradio->-r requirements.txt (line 7)) (4.66.5)\n",
      "Requirement already satisfied: filelock in /opt/app-root/lib/python3.9/site-packages (from huggingface-hub>=0.19.3->gradio->-r requirements.txt (line 7)) (3.16.0)\n",
      "Requirement already satisfied: zipp>=0.5 in /opt/app-root/lib/python3.9/site-packages (from importlib-metadata>=3.6.0->flask->-r requirements.txt (line 6)) (3.18.2)\n",
      "Requirement already satisfied: entrypoints in /opt/app-root/lib/python3.9/site-packages (from jupyter-client<8,>=5.3.4->notebook->-r requirements.txt (line 1)) (0.4)\n",
      "Requirement already satisfied: platformdirs>=2.5 in /opt/app-root/lib/python3.9/site-packages (from jupyter-core>=4.6.1->notebook->-r requirements.txt (line 1)) (4.2.2)\n",
      "Requirement already satisfied: jupyter-server>=1.8 in /opt/app-root/lib/python3.9/site-packages (from nbclassic>=0.4.7->notebook->-r requirements.txt (line 1)) (2.13.0)\n",
      "Requirement already satisfied: notebook-shim>=0.2.3 in /opt/app-root/lib/python3.9/site-packages (from nbclassic>=0.4.7->notebook->-r requirements.txt (line 1)) (0.2.4)\n",
      "Requirement already satisfied: defusedxml in /opt/app-root/lib/python3.9/site-packages (from nbconvert>=5->notebook->-r requirements.txt (line 1)) (0.7.1)\n",
      "Requirement already satisfied: beautifulsoup4 in /opt/app-root/lib/python3.9/site-packages (from nbconvert>=5->notebook->-r requirements.txt (line 1)) (4.12.3)\n",
      "Requirement already satisfied: pygments>=2.4.1 in /opt/app-root/lib/python3.9/site-packages (from nbconvert>=5->notebook->-r requirements.txt (line 1)) (2.18.0)\n",
      "Requirement already satisfied: nbclient>=0.5.0 in /opt/app-root/lib/python3.9/site-packages (from nbconvert>=5->notebook->-r requirements.txt (line 1)) (0.10.0)\n",
      "Requirement already satisfied: jupyterlab-pygments in /opt/app-root/lib/python3.9/site-packages (from nbconvert>=5->notebook->-r requirements.txt (line 1)) (0.3.0)\n",
      "Requirement already satisfied: mistune<4,>=2.0.3 in /opt/app-root/lib/python3.9/site-packages (from nbconvert>=5->notebook->-r requirements.txt (line 1)) (3.0.2)\n",
      "Requirement already satisfied: bleach!=5.0.0 in /opt/app-root/lib/python3.9/site-packages (from nbconvert>=5->notebook->-r requirements.txt (line 1)) (6.1.0)\n",
      "Requirement already satisfied: pandocfilters>=1.4.1 in /opt/app-root/lib/python3.9/site-packages (from nbconvert>=5->notebook->-r requirements.txt (line 1)) (1.5.1)\n",
      "Requirement already satisfied: tinycss2 in /opt/app-root/lib/python3.9/site-packages (from nbconvert>=5->notebook->-r requirements.txt (line 1)) (1.3.0)\n",
      "Requirement already satisfied: fastjsonschema>=2.15 in /opt/app-root/lib/python3.9/site-packages (from nbformat->notebook->-r requirements.txt (line 1)) (2.19.1)\n",
      "Requirement already satisfied: tzdata>=2022.7 in /opt/app-root/lib/python3.9/site-packages (from pandas<3.0,>=1.0->gradio->-r requirements.txt (line 7)) (2024.1)\n",
      "Requirement already satisfied: pytz>=2020.1 in /opt/app-root/lib/python3.9/site-packages (from pandas<3.0,>=1.0->gradio->-r requirements.txt (line 7)) (2024.2)\n",
      "Requirement already satisfied: annotated-types>=0.6.0 in /opt/app-root/lib/python3.9/site-packages (from pydantic>=2.0->gradio->-r requirements.txt (line 7)) (0.7.0)\n",
      "Requirement already satisfied: pydantic-core==2.23.3 in /opt/app-root/lib/python3.9/site-packages (from pydantic>=2.0->gradio->-r requirements.txt (line 7)) (2.23.3)\n",
      "Requirement already satisfied: six>=1.5 in /opt/app-root/lib/python3.9/site-packages (from python-dateutil>=2.7->matplotlib->-r requirements.txt (line 9)) (1.16.0)\n",
      "Requirement already satisfied: markdown-it-py>=2.2.0 in /opt/app-root/lib/python3.9/site-packages (from rich<14,>=10.14.0->streamlit->-r requirements.txt (line 8)) (3.0.0)\n",
      "Requirement already satisfied: ptyprocess in /opt/app-root/lib/python3.9/site-packages (from terminado>=0.8.3->notebook->-r requirements.txt (line 1)) (0.7.0)\n",
      "Requirement already satisfied: shellingham>=1.3.0 in /opt/app-root/lib/python3.9/site-packages (from typer<1.0,>=0.12->gradio->-r requirements.txt (line 7)) (1.5.4)\n",
      "Requirement already satisfied: argon2-cffi-bindings in /opt/app-root/lib/python3.9/site-packages (from argon2-cffi->notebook->-r requirements.txt (line 1)) (21.2.0)\n",
      "Requirement already satisfied: matplotlib-inline>=0.1 in /opt/app-root/lib/python3.9/site-packages (from ipykernel->notebook->-r requirements.txt (line 1)) (0.1.7)\n",
      "Requirement already satisfied: psutil in /opt/app-root/lib/python3.9/site-packages (from ipykernel->notebook->-r requirements.txt (line 1)) (5.9.8)\n",
      "Requirement already satisfied: debugpy>=1.6.5 in /opt/app-root/lib/python3.9/site-packages (from ipykernel->notebook->-r requirements.txt (line 1)) (1.8.1)\n",
      "Requirement already satisfied: comm>=0.1.1 in /opt/app-root/lib/python3.9/site-packages (from ipykernel->notebook->-r requirements.txt (line 1)) (0.2.2)\n",
      "Requirement already satisfied: ipython>=7.23.1 in /opt/app-root/lib/python3.9/site-packages (from ipykernel->notebook->-r requirements.txt (line 1)) (8.18.1)\n",
      "Requirement already satisfied: webencodings in /opt/app-root/lib/python3.9/site-packages (from bleach!=5.0.0->nbconvert>=5->notebook->-r requirements.txt (line 1)) (0.5.1)\n",
      "Requirement already satisfied: smmap<6,>=3.0.1 in /opt/app-root/lib/python3.9/site-packages (from gitdb<5,>=4.0.1->gitpython!=3.1.19,<4,>=3.0.7->streamlit->-r requirements.txt (line 8)) (5.0.1)\n",
      "Requirement already satisfied: stack-data in /opt/app-root/lib/python3.9/site-packages (from ipython>=7.23.1->ipykernel->notebook->-r requirements.txt (line 1)) (0.6.3)\n",
      "Requirement already satisfied: pexpect>4.3 in /opt/app-root/lib/python3.9/site-packages (from ipython>=7.23.1->ipykernel->notebook->-r requirements.txt (line 1)) (4.9.0)\n",
      "Requirement already satisfied: jedi>=0.16 in /opt/app-root/lib/python3.9/site-packages (from ipython>=7.23.1->ipykernel->notebook->-r requirements.txt (line 1)) (0.19.1)\n",
      "Requirement already satisfied: prompt-toolkit<3.1.0,>=3.0.41 in /opt/app-root/lib/python3.9/site-packages (from ipython>=7.23.1->ipykernel->notebook->-r requirements.txt (line 1)) (3.0.43)\n",
      "Requirement already satisfied: decorator in /opt/app-root/lib/python3.9/site-packages (from ipython>=7.23.1->ipykernel->notebook->-r requirements.txt (line 1)) (5.1.1)\n",
      "Requirement already satisfied: rpds-py>=0.7.1 in /opt/app-root/lib/python3.9/site-packages (from jsonschema>=3.0->altair<6,>=4.0->streamlit->-r requirements.txt (line 8)) (0.18.1)\n",
      "Requirement already satisfied: jsonschema-specifications>=2023.03.6 in /opt/app-root/lib/python3.9/site-packages (from jsonschema>=3.0->altair<6,>=4.0->streamlit->-r requirements.txt (line 8)) (2023.12.1)\n",
      "Requirement already satisfied: attrs>=22.2.0 in /opt/app-root/lib/python3.9/site-packages (from jsonschema>=3.0->altair<6,>=4.0->streamlit->-r requirements.txt (line 8)) (23.2.0)\n",
      "Requirement already satisfied: referencing>=0.28.4 in /opt/app-root/lib/python3.9/site-packages (from jsonschema>=3.0->altair<6,>=4.0->streamlit->-r requirements.txt (line 8)) (0.35.1)\n",
      "Requirement already satisfied: jupyter-server-terminals in /opt/app-root/lib/python3.9/site-packages (from jupyter-server>=1.8->nbclassic>=0.4.7->notebook->-r requirements.txt (line 1)) (0.5.3)\n",
      "Requirement already satisfied: jupyter-events>=0.9.0 in /opt/app-root/lib/python3.9/site-packages (from jupyter-server>=1.8->nbclassic>=0.4.7->notebook->-r requirements.txt (line 1)) (0.10.0)\n",
      "Requirement already satisfied: websocket-client in /opt/app-root/lib/python3.9/site-packages (from jupyter-server>=1.8->nbclassic>=0.4.7->notebook->-r requirements.txt (line 1)) (1.8.0)\n",
      "Requirement already satisfied: overrides in /opt/app-root/lib/python3.9/site-packages (from jupyter-server>=1.8->nbclassic>=0.4.7->notebook->-r requirements.txt (line 1)) (7.7.0)\n",
      "Requirement already satisfied: mdurl~=0.1 in /opt/app-root/lib/python3.9/site-packages (from markdown-it-py>=2.2.0->rich<14,>=10.14.0->streamlit->-r requirements.txt (line 8)) (0.1.2)\n",
      "Requirement already satisfied: cffi>=1.0.1 in /opt/app-root/lib/python3.9/site-packages (from argon2-cffi-bindings->argon2-cffi->notebook->-r requirements.txt (line 1)) (1.16.0)\n",
      "Requirement already satisfied: soupsieve>1.2 in /opt/app-root/lib/python3.9/site-packages (from beautifulsoup4->nbconvert>=5->notebook->-r requirements.txt (line 1)) (2.5)\n",
      "Requirement already satisfied: pycparser in /opt/app-root/lib/python3.9/site-packages (from cffi>=1.0.1->argon2-cffi-bindings->argon2-cffi->notebook->-r requirements.txt (line 1)) (2.22)\n",
      "Requirement already satisfied: parso<0.9.0,>=0.8.3 in /opt/app-root/lib/python3.9/site-packages (from jedi>=0.16->ipython>=7.23.1->ipykernel->notebook->-r requirements.txt (line 1)) (0.8.4)\n",
      "Requirement already satisfied: rfc3986-validator>=0.1.1 in /opt/app-root/lib/python3.9/site-packages (from jupyter-events>=0.9.0->jupyter-server>=1.8->nbclassic>=0.4.7->notebook->-r requirements.txt (line 1)) (0.1.1)\n",
      "Requirement already satisfied: python-json-logger>=2.0.4 in /opt/app-root/lib/python3.9/site-packages (from jupyter-events>=0.9.0->jupyter-server>=1.8->nbclassic>=0.4.7->notebook->-r requirements.txt (line 1)) (2.0.7)\n",
      "Requirement already satisfied: rfc3339-validator in /opt/app-root/lib/python3.9/site-packages (from jupyter-events>=0.9.0->jupyter-server>=1.8->nbclassic>=0.4.7->notebook->-r requirements.txt (line 1)) (0.1.4)\n",
      "Requirement already satisfied: wcwidth in /opt/app-root/lib/python3.9/site-packages (from prompt-toolkit<3.1.0,>=3.0.41->ipython>=7.23.1->ipykernel->notebook->-r requirements.txt (line 1)) (0.2.13)\n",
      "Requirement already satisfied: pure-eval in /opt/app-root/lib/python3.9/site-packages (from stack-data->ipython>=7.23.1->ipykernel->notebook->-r requirements.txt (line 1)) (0.2.2)\n",
      "Requirement already satisfied: executing>=1.2.0 in /opt/app-root/lib/python3.9/site-packages (from stack-data->ipython>=7.23.1->ipykernel->notebook->-r requirements.txt (line 1)) (2.0.1)\n",
      "Requirement already satisfied: asttokens>=2.1.0 in /opt/app-root/lib/python3.9/site-packages (from stack-data->ipython>=7.23.1->ipykernel->notebook->-r requirements.txt (line 1)) (2.4.1)\n",
      "Requirement already satisfied: fqdn in /opt/app-root/lib/python3.9/site-packages (from jsonschema>=3.0->altair<6,>=4.0->streamlit->-r requirements.txt (line 8)) (1.5.1)\n",
      "Requirement already satisfied: webcolors>=1.11 in /opt/app-root/lib/python3.9/site-packages (from jsonschema>=3.0->altair<6,>=4.0->streamlit->-r requirements.txt (line 8)) (1.13)\n",
      "Requirement already satisfied: jsonpointer>1.13 in /opt/app-root/lib/python3.9/site-packages (from jsonschema>=3.0->altair<6,>=4.0->streamlit->-r requirements.txt (line 8)) (2.4)\n",
      "Requirement already satisfied: isoduration in /opt/app-root/lib/python3.9/site-packages (from jsonschema>=3.0->altair<6,>=4.0->streamlit->-r requirements.txt (line 8)) (20.11.0)\n",
      "Requirement already satisfied: uri-template in /opt/app-root/lib/python3.9/site-packages (from jsonschema>=3.0->altair<6,>=4.0->streamlit->-r requirements.txt (line 8)) (1.3.0)\n",
      "Requirement already satisfied: arrow>=0.15.0 in /opt/app-root/lib/python3.9/site-packages (from isoduration->jsonschema>=3.0->altair<6,>=4.0->streamlit->-r requirements.txt (line 8)) (1.3.0)\n",
      "Requirement already satisfied: types-python-dateutil>=2.8.10 in /opt/app-root/lib/python3.9/site-packages (from arrow>=0.15.0->isoduration->jsonschema>=3.0->altair<6,>=4.0->streamlit->-r requirements.txt (line 8)) (2.9.0.20240316)\n",
      "\n",
      "\u001b[1m[\u001b[0m\u001b[34;49mnotice\u001b[0m\u001b[1;39;49m]\u001b[0m\u001b[39;49m A new release of pip available: \u001b[0m\u001b[31;49m22.2.2\u001b[0m\u001b[39;49m -> \u001b[0m\u001b[32;49m24.2\u001b[0m\n",
      "\u001b[1m[\u001b[0m\u001b[34;49mnotice\u001b[0m\u001b[1;39;49m]\u001b[0m\u001b[39;49m To update, run: \u001b[0m\u001b[32;49mpip install --upgrade pip\u001b[0m\n"
     ]
    }
   ],
   "source": [
    "import sys\n",
    "!{sys.executable} -m pip install -r requirements.txt"
   ]
  },
  {
   "cell_type": "markdown",
   "metadata": {},
   "source": [
    "Now that we have everything in place, we can launch the Flask application.\n",
    "\n",
    "(Please ignore the CUDA errors of warning if you don't have any GPU).\n",
    "\n",
    "This cell will be in a **permanent running state**. That's normal as the webserver process will keep running. When you are **finished** with the test you can just select the cell, and click on the **Stop button** (next to Run)."
   ]
  },
  {
   "cell_type": "code",
   "execution_count": null,
   "metadata": {
    "ExecuteTime": {
     "end_time": "2021-04-13T20:22:18.706055Z",
     "start_time": "2021-04-13T20:12:31.112873Z"
    },
    "tags": []
   },
   "outputs": [
    {
     "name": "stdout",
     "output_type": "stream",
     "text": [
      "File downloaded successfully\n",
      "Neva Response: In the image you can see a cat sitting on a bed. There are no brake pads in the image.\n",
      "Neva Time: 1.0443708896636963 \n",
      "\n",
      "{'prediction': \"The image shows a cat sitting on a bed. The cat has a curious expression, and its fur appears to be a mix of brown and white. The cat's eyes are bright and alert, and it seems to be looking at something just out of the frame. The bed is made with red sheets, and there is a pillow next to the cat. The room is dimly lit, and the only source of light is coming from a lamp in the corner.\"}\n",
      " * Serving Flask app 'wsgi.py'\n",
      " * Debug mode: off\n",
      "\u001b[31m\u001b[1mWARNING: This is a development server. Do not use it in a production deployment. Use a production WSGI server instead.\u001b[0m\n",
      " * Running on http://127.0.0.1:5000\n",
      "\u001b[33mPress CTRL+C to quit\u001b[0m\n",
      "127.0.0.1 - - [13/Sep/2024 05:16:04] \"GET /status HTTP/1.1\" 200 -\n",
      "127.0.0.1 - - [13/Sep/2024 05:16:12] \"POST /prediction HTTP/1.1\" 200 -\n",
      "127.0.0.1 - - [13/Sep/2024 05:16:29] \"POST /prediction HTTP/1.1\" 200 -\n"
     ]
    }
   ],
   "source": [
    "!FLASK_ENV=development FLASK_APP=wsgi.py flask run"
   ]
  },
  {
   "cell_type": "markdown",
   "metadata": {},
   "source": [
    "Once the models have been loaded, our server is ready to take requests. Leave this notebook running,and open `04_MBR_test_application.ipynb`."
   ]
  }
 ],
 "metadata": {
  "finalized": {
   "timestamp": 1618345356814,
   "trusted": true
  },
  "kernelspec": {
   "display_name": "Python 3.9",
   "language": "python",
   "name": "python3"
  },
  "language_info": {
   "codemirror_mode": {
    "name": "ipython",
    "version": 3
   },
   "file_extension": ".py",
   "mimetype": "text/x-python",
   "name": "python",
   "nbconvert_exporter": "python",
   "pygments_lexer": "ipython3",
   "version": "3.9.16"
  },
  "toc": {
   "base_numbering": 1,
   "nav_menu": {},
   "number_sections": true,
   "sideBar": true,
   "skip_h1_title": false,
   "title_cell": "Table of Contents",
   "title_sidebar": "Contents",
   "toc_cell": false,
   "toc_position": {},
   "toc_section_display": true,
   "toc_window_display": false
  }
 },
 "nbformat": 4,
 "nbformat_minor": 4
}
