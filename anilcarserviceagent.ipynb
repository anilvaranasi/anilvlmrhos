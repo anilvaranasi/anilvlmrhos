{
 "cells": [
  {
   "cell_type": "markdown",
   "id": "e217daaa",
   "metadata": {},
   "source": [
    "SPDX-FileCopyrightText: Copyright (c) 2024 NVIDIA CORPORATION & AFFILIATES. All rights reserved.  \n",
    "SPDX-License-Identifier: Apache-2.0"
   ]
  },
  {
   "cell_type": "markdown",
   "id": "aec3b329-928c-45ea-9e2e-0e9b861aaede",
   "metadata": {},
   "source": [
    "# VLM NIM Workshop\n",
    "\n",
    "NVIDIA Inference Microservices (NIMs) are a collection of easy to use API driven microservices to interact with AI models. \n",
    "\n",
    "This workshop focuses on the Visual Language Models that are currently available. \n",
    "\n",
    "- <a href=https://build.nvidia.com/nvidia/neva-22b> Neva-22b </a>\n",
    "- <a href=https://build.nvidia.com/microsoft/microsoft-kosmos-2> Kosmos-2 </a>\n",
    "- <a href=https://build.nvidia.com/adept/fuyu-8b> Fuyu-8b </a>\n",
    "- <a href=https://build.nvidia.com/google/google-paligemma> paligemma </a>\n",
    "- <a href=https://build.nvidia.com/microsoft/phi-3-vision-128k-instruct> phi-3-vision-128k-instruct </a>\n",
    "\n",
    "\n",
    "\n",
    "To learn more about NIMs visit <a href=https://build.nvidia.com/explore/discover> ai.nvidia.com </a>"
   ]
  },
  {
   "cell_type": "markdown",
   "id": "4afed3f4-8757-470a-8a5c-b5654bc4585a",
   "metadata": {},
   "source": [
    "This workshop has four parts:\n",
    "\n",
    "**Part 0.** Setup Environment  \n",
    "**Part 1.** Text Chat  \n",
    "**Part 2.** Image Chat  \n",
    "**Part 3.** Video Understanding"
   ]
  },
  {
   "cell_type": "markdown",
   "id": "e7f51777-9f57-4d74-a188-38695bf55cb5",
   "metadata": {},
   "source": [
    "## Part 0: Setup Environment \n",
    "\n",
    "1) This notebook requires the user to bring a video in mp4 format to run the streaming pipeline in Part 3. The notebook will assume there is a file named **test_video.mp4** in the same directory as this notebook. Adjust the cell below to define a path to a test video file. \n",
    "\n",
    "2) Fill in the *api_key* variable with your API key that was generated from the NIM website. "
   ]
  },
  {
   "cell_type": "code",
   "execution_count": 39,
   "id": "abd946ba-733c-4277-aafa-3b27f4114ecd",
   "metadata": {
    "tags": []
   },
   "outputs": [
    {
     "name": "stdout",
     "output_type": "stream",
     "text": [
      "File downloaded successfully\n"
     ]
    }
   ],
   "source": [
    "import requests\n",
    "\n",
    "url = 'https://dev263135.service-now.com/x_146833_genaico_0.CatImage3.jpg'\n",
    "testimage = '/opt/app-root/src/metropolis-nim-workflows/workflows/vlm_alerts/aniltestimage.jpg'\n",
    "\n",
    "response = requests.get(url)\n",
    "if response.status_code == 200:\n",
    "    with open(testimage, 'wb') as file:\n",
    "        file.write(response.content)\n",
    "    print('File downloaded successfully')\n",
    "else:\n",
    "    print('Failed to download file')\n"
   ]
  },
  {
   "cell_type": "code",
   "execution_count": 40,
   "id": "13d4e5a2-8754-4087-a076-940f3d8b995b",
   "metadata": {
    "tags": []
   },
   "outputs": [],
   "source": [
    "test_video = \"test_video.mp4\" #FIXME - point to a 1080p mp4 video file. \n",
    "api_key = \"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\" #FIX ME "
   ]
  },
  {
   "cell_type": "markdown",
   "id": "c4107f13-6040-43dc-9cf2-f300889c1c99",
   "metadata": {},
   "source": [
    "The next cell will install all the necessary Python packages for this notebook. "
   ]
  },
  {
   "cell_type": "code",
   "execution_count": 41,
   "id": "74ac298e-093e-4cb9-885a-e271d57d3684",
   "metadata": {
    "tags": []
   },
   "outputs": [
    {
     "name": "stdout",
     "output_type": "stream",
     "text": [
      "Requirement already satisfied: notebook in /opt/app-root/lib/python3.9/site-packages (from -r requirements.txt (line 1)) (6.5.7)\n",
      "Requirement already satisfied: opencv-python in /opt/app-root/lib/python3.9/site-packages (from -r requirements.txt (line 2)) (4.10.0.84)\n",
      "Requirement already satisfied: requests in /opt/app-root/lib/python3.9/site-packages (from -r requirements.txt (line 3)) (2.32.2)\n",
      "Requirement already satisfied: pillow in /opt/app-root/lib/python3.9/site-packages (from -r requirements.txt (line 4)) (10.4.0)\n",
      "Requirement already satisfied: numpy in /opt/app-root/lib/python3.9/site-packages (from -r requirements.txt (line 5)) (2.0.2)\n",
      "Requirement already satisfied: flask in /opt/app-root/lib/python3.9/site-packages (from -r requirements.txt (line 6)) (3.0.3)\n",
      "Requirement already satisfied: gradio in /opt/app-root/lib/python3.9/site-packages (from -r requirements.txt (line 7)) (4.44.0)\n",
      "Requirement already satisfied: streamlit in /opt/app-root/lib/python3.9/site-packages (from -r requirements.txt (line 8)) (1.38.0)\n",
      "Requirement already satisfied: matplotlib in /opt/app-root/lib/python3.9/site-packages (from -r requirements.txt (line 9)) (3.9.2)\n",
      "Requirement already satisfied: websockets in /opt/app-root/lib/python3.9/site-packages (from -r requirements.txt (line 10)) (12.0)\n",
      "Requirement already satisfied: nbformat in /opt/app-root/lib/python3.9/site-packages (from notebook->-r requirements.txt (line 1)) (5.10.4)\n",
      "Requirement already satisfied: pyzmq>=17 in /opt/app-root/lib/python3.9/site-packages (from notebook->-r requirements.txt (line 1)) (26.0.3)\n",
      "Requirement already satisfied: Send2Trash>=1.8.0 in /opt/app-root/lib/python3.9/site-packages (from notebook->-r requirements.txt (line 1)) (1.8.3)\n",
      "Requirement already satisfied: tornado>=6.1 in /opt/app-root/lib/python3.9/site-packages (from notebook->-r requirements.txt (line 1)) (6.4)\n",
      "Requirement already satisfied: traitlets>=4.2.1 in /opt/app-root/lib/python3.9/site-packages (from notebook->-r requirements.txt (line 1)) (5.14.3)\n",
      "Requirement already satisfied: ipython-genutils in /opt/app-root/lib/python3.9/site-packages (from notebook->-r requirements.txt (line 1)) (0.2.0)\n",
      "Requirement already satisfied: jupyter-core>=4.6.1 in /opt/app-root/lib/python3.9/site-packages (from notebook->-r requirements.txt (line 1)) (5.7.2)\n",
      "Requirement already satisfied: argon2-cffi in /opt/app-root/lib/python3.9/site-packages (from notebook->-r requirements.txt (line 1)) (23.1.0)\n",
      "Requirement already satisfied: jupyter-client<8,>=5.3.4 in /opt/app-root/lib/python3.9/site-packages (from notebook->-r requirements.txt (line 1)) (7.4.9)\n",
      "Requirement already satisfied: ipykernel in /opt/app-root/lib/python3.9/site-packages (from notebook->-r requirements.txt (line 1)) (6.29.4)\n",
      "Requirement already satisfied: nbconvert>=5 in /opt/app-root/lib/python3.9/site-packages (from notebook->-r requirements.txt (line 1)) (7.16.4)\n",
      "Requirement already satisfied: nbclassic>=0.4.7 in /opt/app-root/lib/python3.9/site-packages (from notebook->-r requirements.txt (line 1)) (1.0.0)\n",
      "Requirement already satisfied: prometheus-client in /opt/app-root/lib/python3.9/site-packages (from notebook->-r requirements.txt (line 1)) (0.20.0)\n",
      "Requirement already satisfied: terminado>=0.8.3 in /opt/app-root/lib/python3.9/site-packages (from notebook->-r requirements.txt (line 1)) (0.18.1)\n",
      "Requirement already satisfied: nest-asyncio>=1.5 in /opt/app-root/lib/python3.9/site-packages (from notebook->-r requirements.txt (line 1)) (1.6.0)\n",
      "Requirement already satisfied: jinja2 in /opt/app-root/lib/python3.9/site-packages (from notebook->-r requirements.txt (line 1)) (3.1.4)\n",
      "Requirement already satisfied: certifi>=2017.4.17 in /opt/app-root/lib/python3.9/site-packages (from requests->-r requirements.txt (line 3)) (2024.2.2)\n",
      "Requirement already satisfied: charset-normalizer<4,>=2 in /opt/app-root/lib/python3.9/site-packages (from requests->-r requirements.txt (line 3)) (3.3.2)\n",
      "Requirement already satisfied: urllib3<3,>=1.21.1 in /opt/app-root/lib/python3.9/site-packages (from requests->-r requirements.txt (line 3)) (2.2.1)\n",
      "Requirement already satisfied: idna<4,>=2.5 in /opt/app-root/lib/python3.9/site-packages (from requests->-r requirements.txt (line 3)) (3.7)\n",
      "Requirement already satisfied: blinker>=1.6.2 in /opt/app-root/lib/python3.9/site-packages (from flask->-r requirements.txt (line 6)) (1.8.2)\n",
      "Requirement already satisfied: importlib-metadata>=3.6.0 in /opt/app-root/lib/python3.9/site-packages (from flask->-r requirements.txt (line 6)) (7.1.0)\n",
      "Requirement already satisfied: itsdangerous>=2.1.2 in /opt/app-root/lib/python3.9/site-packages (from flask->-r requirements.txt (line 6)) (2.2.0)\n",
      "Requirement already satisfied: Werkzeug>=3.0.0 in /opt/app-root/lib/python3.9/site-packages (from flask->-r requirements.txt (line 6)) (3.0.4)\n",
      "Requirement already satisfied: click>=8.1.3 in /opt/app-root/lib/python3.9/site-packages (from flask->-r requirements.txt (line 6)) (8.1.7)\n",
      "Requirement already satisfied: huggingface-hub>=0.19.3 in /opt/app-root/lib/python3.9/site-packages (from gradio->-r requirements.txt (line 7)) (0.24.7)\n",
      "Requirement already satisfied: typer<1.0,>=0.12 in /opt/app-root/lib/python3.9/site-packages (from gradio->-r requirements.txt (line 7)) (0.12.5)\n",
      "Requirement already satisfied: ruff>=0.2.2 in /opt/app-root/lib/python3.9/site-packages (from gradio->-r requirements.txt (line 7)) (0.6.4)\n",
      "Requirement already satisfied: aiofiles<24.0,>=22.0 in /opt/app-root/lib/python3.9/site-packages (from gradio->-r requirements.txt (line 7)) (22.1.0)\n",
      "Requirement already satisfied: pandas<3.0,>=1.0 in /opt/app-root/lib/python3.9/site-packages (from gradio->-r requirements.txt (line 7)) (2.2.2)\n",
      "Requirement already satisfied: fastapi<1.0 in /opt/app-root/lib/python3.9/site-packages (from gradio->-r requirements.txt (line 7)) (0.114.1)\n",
      "Requirement already satisfied: pyyaml<7.0,>=5.0 in /opt/app-root/lib/python3.9/site-packages (from gradio->-r requirements.txt (line 7)) (6.0.1)\n",
      "Requirement already satisfied: markupsafe~=2.0 in /opt/app-root/lib/python3.9/site-packages (from gradio->-r requirements.txt (line 7)) (2.1.5)\n",
      "Requirement already satisfied: semantic-version~=2.0 in /opt/app-root/lib/python3.9/site-packages (from gradio->-r requirements.txt (line 7)) (2.10.0)\n",
      "Requirement already satisfied: pydantic>=2.0 in /opt/app-root/lib/python3.9/site-packages (from gradio->-r requirements.txt (line 7)) (2.9.1)\n",
      "Requirement already satisfied: ffmpy in /opt/app-root/lib/python3.9/site-packages (from gradio->-r requirements.txt (line 7)) (0.4.0)\n",
      "Requirement already satisfied: orjson~=3.0 in /opt/app-root/lib/python3.9/site-packages (from gradio->-r requirements.txt (line 7)) (3.10.7)\n",
      "Requirement already satisfied: pydub in /opt/app-root/lib/python3.9/site-packages (from gradio->-r requirements.txt (line 7)) (0.25.1)\n",
      "Requirement already satisfied: python-multipart>=0.0.9 in /opt/app-root/lib/python3.9/site-packages (from gradio->-r requirements.txt (line 7)) (0.0.9)\n",
      "Requirement already satisfied: gradio-client==1.3.0 in /opt/app-root/lib/python3.9/site-packages (from gradio->-r requirements.txt (line 7)) (1.3.0)\n",
      "Requirement already satisfied: packaging in /opt/app-root/lib/python3.9/site-packages (from gradio->-r requirements.txt (line 7)) (24.0)\n",
      "Requirement already satisfied: uvicorn>=0.14.0 in /opt/app-root/lib/python3.9/site-packages (from gradio->-r requirements.txt (line 7)) (0.30.6)\n",
      "Requirement already satisfied: importlib-resources<7.0,>=1.3 in /opt/app-root/lib/python3.9/site-packages (from gradio->-r requirements.txt (line 7)) (6.4.5)\n",
      "Requirement already satisfied: anyio<5.0,>=3.0 in /opt/app-root/lib/python3.9/site-packages (from gradio->-r requirements.txt (line 7)) (4.3.0)\n",
      "Requirement already satisfied: typing-extensions~=4.0 in /opt/app-root/lib/python3.9/site-packages (from gradio->-r requirements.txt (line 7)) (4.11.0)\n",
      "Requirement already satisfied: httpx>=0.24.1 in /opt/app-root/lib/python3.9/site-packages (from gradio->-r requirements.txt (line 7)) (0.27.2)\n",
      "Requirement already satisfied: tomlkit==0.12.0 in /opt/app-root/lib/python3.9/site-packages (from gradio->-r requirements.txt (line 7)) (0.12.0)\n",
      "Requirement already satisfied: fsspec in /opt/app-root/lib/python3.9/site-packages (from gradio-client==1.3.0->gradio->-r requirements.txt (line 7)) (2024.9.0)\n",
      "Requirement already satisfied: pydeck<1,>=0.8.0b4 in /opt/app-root/lib/python3.9/site-packages (from streamlit->-r requirements.txt (line 8)) (0.9.1)\n",
      "Requirement already satisfied: gitpython!=3.1.19,<4,>=3.0.7 in /opt/app-root/lib/python3.9/site-packages (from streamlit->-r requirements.txt (line 8)) (3.1.43)\n",
      "Requirement already satisfied: tenacity<9,>=8.1.0 in /opt/app-root/lib/python3.9/site-packages (from streamlit->-r requirements.txt (line 8)) (8.5.0)\n",
      "Requirement already satisfied: watchdog<5,>=2.1.5 in /opt/app-root/lib/python3.9/site-packages (from streamlit->-r requirements.txt (line 8)) (4.0.2)\n",
      "Requirement already satisfied: pyarrow>=7.0 in /opt/app-root/lib/python3.9/site-packages (from streamlit->-r requirements.txt (line 8)) (17.0.0)\n",
      "Requirement already satisfied: rich<14,>=10.14.0 in /opt/app-root/lib/python3.9/site-packages (from streamlit->-r requirements.txt (line 8)) (13.8.1)\n",
      "Requirement already satisfied: cachetools<6,>=4.0 in /opt/app-root/lib/python3.9/site-packages (from streamlit->-r requirements.txt (line 8)) (5.5.0)\n",
      "Requirement already satisfied: toml<2,>=0.10.1 in /opt/app-root/lib/python3.9/site-packages (from streamlit->-r requirements.txt (line 8)) (0.10.2)\n",
      "Requirement already satisfied: protobuf<6,>=3.20 in /opt/app-root/lib/python3.9/site-packages (from streamlit->-r requirements.txt (line 8)) (5.28.1)\n",
      "Requirement already satisfied: altair<6,>=4.0 in /opt/app-root/lib/python3.9/site-packages (from streamlit->-r requirements.txt (line 8)) (5.4.1)\n",
      "Requirement already satisfied: contourpy>=1.0.1 in /opt/app-root/lib/python3.9/site-packages (from matplotlib->-r requirements.txt (line 9)) (1.3.0)\n",
      "Requirement already satisfied: pyparsing>=2.3.1 in /opt/app-root/lib/python3.9/site-packages (from matplotlib->-r requirements.txt (line 9)) (3.1.4)\n",
      "Requirement already satisfied: cycler>=0.10 in /opt/app-root/lib/python3.9/site-packages (from matplotlib->-r requirements.txt (line 9)) (0.12.1)\n",
      "Requirement already satisfied: kiwisolver>=1.3.1 in /opt/app-root/lib/python3.9/site-packages (from matplotlib->-r requirements.txt (line 9)) (1.4.7)\n",
      "Requirement already satisfied: python-dateutil>=2.7 in /opt/app-root/lib/python3.9/site-packages (from matplotlib->-r requirements.txt (line 9)) (2.9.0.post0)\n",
      "Requirement already satisfied: fonttools>=4.22.0 in /opt/app-root/lib/python3.9/site-packages (from matplotlib->-r requirements.txt (line 9)) (4.53.1)\n",
      "Requirement already satisfied: jsonschema>=3.0 in /opt/app-root/lib/python3.9/site-packages (from altair<6,>=4.0->streamlit->-r requirements.txt (line 8)) (4.22.0)\n",
      "Requirement already satisfied: narwhals>=1.5.2 in /opt/app-root/lib/python3.9/site-packages (from altair<6,>=4.0->streamlit->-r requirements.txt (line 8)) (1.7.0)\n",
      "Requirement already satisfied: exceptiongroup>=1.0.2 in /opt/app-root/lib/python3.9/site-packages (from anyio<5.0,>=3.0->gradio->-r requirements.txt (line 7)) (1.2.1)\n",
      "Requirement already satisfied: sniffio>=1.1 in /opt/app-root/lib/python3.9/site-packages (from anyio<5.0,>=3.0->gradio->-r requirements.txt (line 7)) (1.3.1)\n",
      "Requirement already satisfied: starlette<0.39.0,>=0.37.2 in /opt/app-root/lib/python3.9/site-packages (from fastapi<1.0->gradio->-r requirements.txt (line 7)) (0.38.5)\n",
      "Requirement already satisfied: gitdb<5,>=4.0.1 in /opt/app-root/lib/python3.9/site-packages (from gitpython!=3.1.19,<4,>=3.0.7->streamlit->-r requirements.txt (line 8)) (4.0.11)\n",
      "Requirement already satisfied: httpcore==1.* in /opt/app-root/lib/python3.9/site-packages (from httpx>=0.24.1->gradio->-r requirements.txt (line 7)) (1.0.5)\n",
      "Requirement already satisfied: h11<0.15,>=0.13 in /opt/app-root/lib/python3.9/site-packages (from httpcore==1.*->httpx>=0.24.1->gradio->-r requirements.txt (line 7)) (0.14.0)\n",
      "Requirement already satisfied: tqdm>=4.42.1 in /opt/app-root/lib/python3.9/site-packages (from huggingface-hub>=0.19.3->gradio->-r requirements.txt (line 7)) (4.66.5)\n",
      "Requirement already satisfied: filelock in /opt/app-root/lib/python3.9/site-packages (from huggingface-hub>=0.19.3->gradio->-r requirements.txt (line 7)) (3.16.0)\n",
      "Requirement already satisfied: zipp>=0.5 in /opt/app-root/lib/python3.9/site-packages (from importlib-metadata>=3.6.0->flask->-r requirements.txt (line 6)) (3.18.2)\n",
      "Requirement already satisfied: entrypoints in /opt/app-root/lib/python3.9/site-packages (from jupyter-client<8,>=5.3.4->notebook->-r requirements.txt (line 1)) (0.4)\n",
      "Requirement already satisfied: platformdirs>=2.5 in /opt/app-root/lib/python3.9/site-packages (from jupyter-core>=4.6.1->notebook->-r requirements.txt (line 1)) (4.2.2)\n",
      "Requirement already satisfied: jupyter-server>=1.8 in /opt/app-root/lib/python3.9/site-packages (from nbclassic>=0.4.7->notebook->-r requirements.txt (line 1)) (2.13.0)\n",
      "Requirement already satisfied: notebook-shim>=0.2.3 in /opt/app-root/lib/python3.9/site-packages (from nbclassic>=0.4.7->notebook->-r requirements.txt (line 1)) (0.2.4)\n",
      "Requirement already satisfied: pandocfilters>=1.4.1 in /opt/app-root/lib/python3.9/site-packages (from nbconvert>=5->notebook->-r requirements.txt (line 1)) (1.5.1)\n",
      "Requirement already satisfied: defusedxml in /opt/app-root/lib/python3.9/site-packages (from nbconvert>=5->notebook->-r requirements.txt (line 1)) (0.7.1)\n",
      "Requirement already satisfied: bleach!=5.0.0 in /opt/app-root/lib/python3.9/site-packages (from nbconvert>=5->notebook->-r requirements.txt (line 1)) (6.1.0)\n",
      "Requirement already satisfied: mistune<4,>=2.0.3 in /opt/app-root/lib/python3.9/site-packages (from nbconvert>=5->notebook->-r requirements.txt (line 1)) (3.0.2)\n",
      "Requirement already satisfied: nbclient>=0.5.0 in /opt/app-root/lib/python3.9/site-packages (from nbconvert>=5->notebook->-r requirements.txt (line 1)) (0.10.0)\n",
      "Requirement already satisfied: jupyterlab-pygments in /opt/app-root/lib/python3.9/site-packages (from nbconvert>=5->notebook->-r requirements.txt (line 1)) (0.3.0)\n",
      "Requirement already satisfied: pygments>=2.4.1 in /opt/app-root/lib/python3.9/site-packages (from nbconvert>=5->notebook->-r requirements.txt (line 1)) (2.18.0)\n",
      "Requirement already satisfied: tinycss2 in /opt/app-root/lib/python3.9/site-packages (from nbconvert>=5->notebook->-r requirements.txt (line 1)) (1.3.0)\n",
      "Requirement already satisfied: beautifulsoup4 in /opt/app-root/lib/python3.9/site-packages (from nbconvert>=5->notebook->-r requirements.txt (line 1)) (4.12.3)\n",
      "Requirement already satisfied: fastjsonschema>=2.15 in /opt/app-root/lib/python3.9/site-packages (from nbformat->notebook->-r requirements.txt (line 1)) (2.19.1)\n",
      "Requirement already satisfied: pytz>=2020.1 in /opt/app-root/lib/python3.9/site-packages (from pandas<3.0,>=1.0->gradio->-r requirements.txt (line 7)) (2024.2)\n",
      "Requirement already satisfied: tzdata>=2022.7 in /opt/app-root/lib/python3.9/site-packages (from pandas<3.0,>=1.0->gradio->-r requirements.txt (line 7)) (2024.1)\n",
      "Requirement already satisfied: annotated-types>=0.6.0 in /opt/app-root/lib/python3.9/site-packages (from pydantic>=2.0->gradio->-r requirements.txt (line 7)) (0.7.0)\n",
      "Requirement already satisfied: pydantic-core==2.23.3 in /opt/app-root/lib/python3.9/site-packages (from pydantic>=2.0->gradio->-r requirements.txt (line 7)) (2.23.3)\n",
      "Requirement already satisfied: six>=1.5 in /opt/app-root/lib/python3.9/site-packages (from python-dateutil>=2.7->matplotlib->-r requirements.txt (line 9)) (1.16.0)\n",
      "Requirement already satisfied: markdown-it-py>=2.2.0 in /opt/app-root/lib/python3.9/site-packages (from rich<14,>=10.14.0->streamlit->-r requirements.txt (line 8)) (3.0.0)\n",
      "Requirement already satisfied: ptyprocess in /opt/app-root/lib/python3.9/site-packages (from terminado>=0.8.3->notebook->-r requirements.txt (line 1)) (0.7.0)\n",
      "Requirement already satisfied: shellingham>=1.3.0 in /opt/app-root/lib/python3.9/site-packages (from typer<1.0,>=0.12->gradio->-r requirements.txt (line 7)) (1.5.4)\n",
      "Requirement already satisfied: argon2-cffi-bindings in /opt/app-root/lib/python3.9/site-packages (from argon2-cffi->notebook->-r requirements.txt (line 1)) (21.2.0)\n",
      "Requirement already satisfied: comm>=0.1.1 in /opt/app-root/lib/python3.9/site-packages (from ipykernel->notebook->-r requirements.txt (line 1)) (0.2.2)\n",
      "Requirement already satisfied: matplotlib-inline>=0.1 in /opt/app-root/lib/python3.9/site-packages (from ipykernel->notebook->-r requirements.txt (line 1)) (0.1.7)\n",
      "Requirement already satisfied: psutil in /opt/app-root/lib/python3.9/site-packages (from ipykernel->notebook->-r requirements.txt (line 1)) (5.9.8)\n",
      "Requirement already satisfied: ipython>=7.23.1 in /opt/app-root/lib/python3.9/site-packages (from ipykernel->notebook->-r requirements.txt (line 1)) (8.18.1)\n",
      "Requirement already satisfied: debugpy>=1.6.5 in /opt/app-root/lib/python3.9/site-packages (from ipykernel->notebook->-r requirements.txt (line 1)) (1.8.1)\n",
      "Requirement already satisfied: webencodings in /opt/app-root/lib/python3.9/site-packages (from bleach!=5.0.0->nbconvert>=5->notebook->-r requirements.txt (line 1)) (0.5.1)\n",
      "Requirement already satisfied: smmap<6,>=3.0.1 in /opt/app-root/lib/python3.9/site-packages (from gitdb<5,>=4.0.1->gitpython!=3.1.19,<4,>=3.0.7->streamlit->-r requirements.txt (line 8)) (5.0.1)\n",
      "Requirement already satisfied: prompt-toolkit<3.1.0,>=3.0.41 in /opt/app-root/lib/python3.9/site-packages (from ipython>=7.23.1->ipykernel->notebook->-r requirements.txt (line 1)) (3.0.43)\n",
      "Requirement already satisfied: pexpect>4.3 in /opt/app-root/lib/python3.9/site-packages (from ipython>=7.23.1->ipykernel->notebook->-r requirements.txt (line 1)) (4.9.0)\n",
      "Requirement already satisfied: jedi>=0.16 in /opt/app-root/lib/python3.9/site-packages (from ipython>=7.23.1->ipykernel->notebook->-r requirements.txt (line 1)) (0.19.1)\n",
      "Requirement already satisfied: stack-data in /opt/app-root/lib/python3.9/site-packages (from ipython>=7.23.1->ipykernel->notebook->-r requirements.txt (line 1)) (0.6.3)\n",
      "Requirement already satisfied: decorator in /opt/app-root/lib/python3.9/site-packages (from ipython>=7.23.1->ipykernel->notebook->-r requirements.txt (line 1)) (5.1.1)\n",
      "Requirement already satisfied: jsonschema-specifications>=2023.03.6 in /opt/app-root/lib/python3.9/site-packages (from jsonschema>=3.0->altair<6,>=4.0->streamlit->-r requirements.txt (line 8)) (2023.12.1)\n",
      "Requirement already satisfied: referencing>=0.28.4 in /opt/app-root/lib/python3.9/site-packages (from jsonschema>=3.0->altair<6,>=4.0->streamlit->-r requirements.txt (line 8)) (0.35.1)\n",
      "Requirement already satisfied: rpds-py>=0.7.1 in /opt/app-root/lib/python3.9/site-packages (from jsonschema>=3.0->altair<6,>=4.0->streamlit->-r requirements.txt (line 8)) (0.18.1)\n",
      "Requirement already satisfied: attrs>=22.2.0 in /opt/app-root/lib/python3.9/site-packages (from jsonschema>=3.0->altair<6,>=4.0->streamlit->-r requirements.txt (line 8)) (23.2.0)\n",
      "Requirement already satisfied: overrides in /opt/app-root/lib/python3.9/site-packages (from jupyter-server>=1.8->nbclassic>=0.4.7->notebook->-r requirements.txt (line 1)) (7.7.0)\n",
      "Requirement already satisfied: websocket-client in /opt/app-root/lib/python3.9/site-packages (from jupyter-server>=1.8->nbclassic>=0.4.7->notebook->-r requirements.txt (line 1)) (1.8.0)\n",
      "Requirement already satisfied: jupyter-events>=0.9.0 in /opt/app-root/lib/python3.9/site-packages (from jupyter-server>=1.8->nbclassic>=0.4.7->notebook->-r requirements.txt (line 1)) (0.10.0)\n",
      "Requirement already satisfied: jupyter-server-terminals in /opt/app-root/lib/python3.9/site-packages (from jupyter-server>=1.8->nbclassic>=0.4.7->notebook->-r requirements.txt (line 1)) (0.5.3)\n",
      "Requirement already satisfied: mdurl~=0.1 in /opt/app-root/lib/python3.9/site-packages (from markdown-it-py>=2.2.0->rich<14,>=10.14.0->streamlit->-r requirements.txt (line 8)) (0.1.2)\n",
      "Requirement already satisfied: cffi>=1.0.1 in /opt/app-root/lib/python3.9/site-packages (from argon2-cffi-bindings->argon2-cffi->notebook->-r requirements.txt (line 1)) (1.16.0)\n",
      "Requirement already satisfied: soupsieve>1.2 in /opt/app-root/lib/python3.9/site-packages (from beautifulsoup4->nbconvert>=5->notebook->-r requirements.txt (line 1)) (2.5)\n",
      "Requirement already satisfied: pycparser in /opt/app-root/lib/python3.9/site-packages (from cffi>=1.0.1->argon2-cffi-bindings->argon2-cffi->notebook->-r requirements.txt (line 1)) (2.22)\n",
      "Requirement already satisfied: parso<0.9.0,>=0.8.3 in /opt/app-root/lib/python3.9/site-packages (from jedi>=0.16->ipython>=7.23.1->ipykernel->notebook->-r requirements.txt (line 1)) (0.8.4)\n",
      "Requirement already satisfied: python-json-logger>=2.0.4 in /opt/app-root/lib/python3.9/site-packages (from jupyter-events>=0.9.0->jupyter-server>=1.8->nbclassic>=0.4.7->notebook->-r requirements.txt (line 1)) (2.0.7)\n",
      "Requirement already satisfied: rfc3986-validator>=0.1.1 in /opt/app-root/lib/python3.9/site-packages (from jupyter-events>=0.9.0->jupyter-server>=1.8->nbclassic>=0.4.7->notebook->-r requirements.txt (line 1)) (0.1.1)\n",
      "Requirement already satisfied: rfc3339-validator in /opt/app-root/lib/python3.9/site-packages (from jupyter-events>=0.9.0->jupyter-server>=1.8->nbclassic>=0.4.7->notebook->-r requirements.txt (line 1)) (0.1.4)\n",
      "Requirement already satisfied: wcwidth in /opt/app-root/lib/python3.9/site-packages (from prompt-toolkit<3.1.0,>=3.0.41->ipython>=7.23.1->ipykernel->notebook->-r requirements.txt (line 1)) (0.2.13)\n",
      "Requirement already satisfied: executing>=1.2.0 in /opt/app-root/lib/python3.9/site-packages (from stack-data->ipython>=7.23.1->ipykernel->notebook->-r requirements.txt (line 1)) (2.0.1)\n",
      "Requirement already satisfied: pure-eval in /opt/app-root/lib/python3.9/site-packages (from stack-data->ipython>=7.23.1->ipykernel->notebook->-r requirements.txt (line 1)) (0.2.2)\n",
      "Requirement already satisfied: asttokens>=2.1.0 in /opt/app-root/lib/python3.9/site-packages (from stack-data->ipython>=7.23.1->ipykernel->notebook->-r requirements.txt (line 1)) (2.4.1)\n",
      "Requirement already satisfied: webcolors>=1.11 in /opt/app-root/lib/python3.9/site-packages (from jsonschema>=3.0->altair<6,>=4.0->streamlit->-r requirements.txt (line 8)) (1.13)\n",
      "Requirement already satisfied: isoduration in /opt/app-root/lib/python3.9/site-packages (from jsonschema>=3.0->altair<6,>=4.0->streamlit->-r requirements.txt (line 8)) (20.11.0)\n",
      "Requirement already satisfied: jsonpointer>1.13 in /opt/app-root/lib/python3.9/site-packages (from jsonschema>=3.0->altair<6,>=4.0->streamlit->-r requirements.txt (line 8)) (2.4)\n",
      "Requirement already satisfied: fqdn in /opt/app-root/lib/python3.9/site-packages (from jsonschema>=3.0->altair<6,>=4.0->streamlit->-r requirements.txt (line 8)) (1.5.1)\n",
      "Requirement already satisfied: uri-template in /opt/app-root/lib/python3.9/site-packages (from jsonschema>=3.0->altair<6,>=4.0->streamlit->-r requirements.txt (line 8)) (1.3.0)\n",
      "Requirement already satisfied: arrow>=0.15.0 in /opt/app-root/lib/python3.9/site-packages (from isoduration->jsonschema>=3.0->altair<6,>=4.0->streamlit->-r requirements.txt (line 8)) (1.3.0)\n",
      "Requirement already satisfied: types-python-dateutil>=2.8.10 in /opt/app-root/lib/python3.9/site-packages (from arrow>=0.15.0->isoduration->jsonschema>=3.0->altair<6,>=4.0->streamlit->-r requirements.txt (line 8)) (2.9.0.20240316)\n",
      "\n",
      "\u001b[1m[\u001b[0m\u001b[34;49mnotice\u001b[0m\u001b[1;39;49m]\u001b[0m\u001b[39;49m A new release of pip available: \u001b[0m\u001b[31;49m22.2.2\u001b[0m\u001b[39;49m -> \u001b[0m\u001b[32;49m24.2\u001b[0m\n",
      "\u001b[1m[\u001b[0m\u001b[34;49mnotice\u001b[0m\u001b[1;39;49m]\u001b[0m\u001b[39;49m To update, run: \u001b[0m\u001b[32;49mpip install --upgrade pip\u001b[0m\n"
     ]
    }
   ],
   "source": [
    "import sys \n",
    "python_exe = sys.executable\n",
    "!{python_exe} -m pip install -r requirements.txt"
   ]
  },
  {
   "cell_type": "code",
   "execution_count": 42,
   "id": "c8350981-12c8-4e1a-9532-2bf5350c292c",
   "metadata": {
    "tags": []
   },
   "outputs": [],
   "source": [
    "import json, io, subprocess, base64\n",
    "from time import time \n",
    "\n",
    "from PIL import Image\n",
    "import matplotlib.pyplot as plt\n",
    "import matplotlib.patches as patches\n",
    "\n",
    "import numpy as np\n",
    "import requests \n",
    "import cv2"
   ]
  },
  {
   "cell_type": "markdown",
   "id": "bfd26950-2e57-4562-af31-3671ccbc4d61",
   "metadata": {},
   "source": [
    "Ensure that no errors occured during the installation and import in the two cells above before continuing."
   ]
  },
  {
   "cell_type": "code",
   "execution_count": 43,
   "id": "76bb349f-0af7-45c5-b926-5543dd22a437",
   "metadata": {
    "tags": []
   },
   "outputs": [],
   "source": [
    "#Setup VLM NIM Urls \n",
    "neva_api_url = \"https://ai.api.nvidia.com/v1/vlm/nvidia/neva-22b\""
   ]
  },
  {
   "cell_type": "markdown",
   "id": "0e61d2b9-f38a-4a42-93dc-46c4ed88840f",
   "metadata": {},
   "source": [
    "## Part 2: Image Chat"
   ]
  },
  {
   "cell_type": "markdown",
   "id": "44ee64f9-cd94-414e-8792-a065e7c07e41",
   "metadata": {},
   "source": [
    "The VLMs are unique because unlike LLMs, they can accept visual and text input. This section will cover the basics on how to provide Images to the VLM."
   ]
  },
  {
   "cell_type": "markdown",
   "id": "b01fedbe-f901-4a66-bc66-105da1fc89ad",
   "metadata": {},
   "source": [
    "### Part 2.1: Image Preprocessing"
   ]
  },
  {
   "cell_type": "markdown",
   "id": "385e4282-87be-45c9-b92f-c213e724d84f",
   "metadata": {},
   "source": [
    "Images are often provded to the multimodal models at a lower resolutions such as 224x224 or 336x336. This is based on the input size of the vision encoder used in the VLM. \n",
    "\n",
    "To reduce our request size, we can preprocess the image to the input resolution used by the VLM. This is not strictly necessary as the NIM itself will process the image to the correct input size but we can reduce latency and API calls by converting our image to JPEG and downsizing it before uploading it through the request. \n",
    "\n",
    "After the image processing is done, it is converted to a base 64 string. A base 64 string encoded image is a common way to serialize images when they are included directly with a REST API request. \n",
    "\n",
    "The maximum image size supported when included directly in the reponse in 180,000 bytes. For larger files, the <a href=https://docs.api.nvidia.com/cloud-functions/reference/createasset> large asset API </a> can be used. This requires a few more API calls but allows for large files to be given to the NIMs.  \n",
    "\n",
    "For this notebook, our image sizes can be reduced sufficiently to allow for upload directly in the chat completion requests so the large asset API is not needed. \n",
    "\n",
    "We will use this image for our testing: \n",
    "\n",
    "![Test Image](test_image.png)"
   ]
  },
  {
   "cell_type": "code",
   "execution_count": 44,
   "id": "c411e4df-80a9-4cde-b7ee-3ae41a698924",
   "metadata": {
    "tags": []
   },
   "outputs": [],
   "source": [
    "def process_image(image):\n",
    "    \"\"\" Resize image, encode as jpeg to shrink size then convert to b64 for upload \"\"\"\n",
    "    if isinstance(image, str):\n",
    "        image = Image.open(image).convert(\"RGB\")\n",
    "    elif isinstance(image, Image.Image):\n",
    "        image = image.convert(\"RGB\")\n",
    "        \n",
    "    image = image.resize((336,336)) #Resize or center crop and padding to be square are common approaches \n",
    "    buf = io.BytesIO() #temporary buffer to save processed image \n",
    "    image.save(buf, format=\"JPEG\") #save as jpeg to reduce size\n",
    "    image = buf.getvalue()\n",
    "    image_b64 = base64.b64encode(image).decode() #convert to b64 string\n",
    "    assert len(image_b64) < 180_000, \"Image to large to upload.\" #ensure image is small enough\n",
    "    return image_b64"
   ]
  },
  {
   "cell_type": "markdown",
   "id": "418e9e6b-278d-4cbe-a91b-74a4fc96b58b",
   "metadata": {},
   "source": [
    "After processing the image, this is what the VLM will see:\n",
    "\n",
    "![Test Image](test_image_resized.jpeg)"
   ]
  },
  {
   "cell_type": "code",
   "execution_count": 45,
   "id": "da4edf2d-3481-41ff-b981-d4b44d9dbcb2",
   "metadata": {
    "tags": []
   },
   "outputs": [],
   "source": [
    "headers = {\n",
    "  \"Authorization\": f\"Bearer {api_key}\",\n",
    "  \"Accept\": \"application/json\"\n",
    "}"
   ]
  },
  {
   "cell_type": "markdown",
   "id": "9bcc6d31-5939-4cbc-8032-73a9094e70f5",
   "metadata": {},
   "source": [
    "The headers are configured the same way as in Part 0. "
   ]
  },
  {
   "cell_type": "markdown",
   "id": "f7df0d1f",
   "metadata": {},
   "source": [
    "### Part 2.1.2 Exercise - Try on your own image with your own queries"
   ]
  },
  {
   "cell_type": "markdown",
   "id": "70d2e703",
   "metadata": {},
   "source": [
    "In this part, try these APIs on your own images. Play with the 4 hyperparameters and see what type of responses it generates"
   ]
  },
  {
   "cell_type": "code",
   "execution_count": 46,
   "id": "12042c2e",
   "metadata": {
    "tags": []
   },
   "outputs": [
    {
     "name": "stdout",
     "output_type": "stream",
     "text": [
      "The image shows a cat sitting on a bed. There are no brake pads in the image.\n"
     ]
    }
   ],
   "source": [
    "image_b64 = process_image(testimage) #put the filepath to your own image\n",
    "payload = {\n",
    "  \"messages\": [\n",
    "    {\n",
    "      \"role\": \"user\",\n",
    "      #\"content\": f'Describe what you see in this image. <img src=\"data:image/jpeg;base64,{image_b64}\" />'\n",
    "        \"content\": f'You are seeing brake pads in the image can you tell if they are having good grip on them <img src=\"data:image/jpeg;base64,{image_b64}\" />'\n",
    "    }\n",
    "  ],\n",
    "  \"max_tokens\": 1024, #TEST\n",
    "  \"temperature\": 0.20, #TEST\n",
    "  \"top_p\": 0.70, #TEST\n",
    "  \"seed\": 0, #TEST\n",
    "  \"stream\": False\n",
    "}\n",
    "\n",
    "response = requests.post(neva_api_url, headers=headers, json=payload)\n",
    "response = response.json()\n",
    "\n",
    "#print only the reply \n",
    "print(response[\"choices\"][0][\"message\"][\"content\"])"
   ]
  },
  {
   "cell_type": "markdown",
   "id": "3be2761b-eb2f-450f-af75-2cb3dfe6290d",
   "metadata": {},
   "source": [
    "### Part 2.2 Abstracting the REST API"
   ]
  },
  {
   "cell_type": "markdown",
   "id": "bef56626-5314-4ba6-830f-a759becd19ee",
   "metadata": {},
   "source": [
    "For easier use, we can wrap the API requests and image processing into a simple callable class."
   ]
  },
  {
   "cell_type": "code",
   "execution_count": 47,
   "id": "550f6afb-91b9-4a5d-b72f-1f54abf2a673",
   "metadata": {
    "tags": []
   },
   "outputs": [],
   "source": [
    "class VLM:\n",
    "    def __init__(self, url, api_key):\n",
    "        \"\"\" Provide NIM API URL and an API key\"\"\"\n",
    "        self.api_key = api_key\n",
    "        self.url = url \n",
    "        self.headers = {\"Authorization\": f\"Bearer {self.api_key}\", \"Accept\": \"application/json\"}\n",
    "\n",
    "    def _encode_image(self, image):\n",
    "        \"\"\" Resize image, encode as jpeg to shrink size then convert to b64 for upload \"\"\"\n",
    "\n",
    "        if isinstance(image, str): #file path\n",
    "            image = Image.open(image).convert(\"RGB\")\n",
    "        elif isinstance(image, Image.Image): #pil image \n",
    "            image = image.convert(\"RGB\")\n",
    "        elif isinstance(image, np.ndarray): #cv2 / np array image \n",
    "            image = cv2.cvtColor(image, cv2.COLOR_BGR2RGB)\n",
    "            image = Image.fromarray(image)\n",
    "        else:\n",
    "            print(f\"Unsupported image input: {type(image)}\")\n",
    "            return None \n",
    "            \n",
    "        image = image.resize((336,336))\n",
    "        buf = io.BytesIO()\n",
    "        image.save(buf, format=\"JPEG\")\n",
    "        image = buf.getvalue()\n",
    "        image_b64 = base64.b64encode(image).decode()\n",
    "        assert len(image_b64) < 180_000, \"Image too large to upload.\"\n",
    "        return image_b64\n",
    "\n",
    "    def __call__(self, prompt, image):\n",
    "        \"\"\" Call VLM object with the prompt and path to image \"\"\" \n",
    "        image_b64 = self._encode_image(image)\n",
    "\n",
    "        #For simplicity, the image will be appended to the end of the prompt. \n",
    "        payload = {\n",
    "              \"messages\": [\n",
    "                {\n",
    "                  \"role\": \"user\",\n",
    "                  \"content\": f'{prompt} Here is the image: <img src=\"data:image/jpeg;base64,{image_b64}\" />'\n",
    "                }\n",
    "              ],\n",
    "              \"max_tokens\": 128,\n",
    "              \"temperature\": 0.20,\n",
    "              \"top_p\": 0.70,\n",
    "              \"stream\": False\n",
    "        }\n",
    "\n",
    "        response = requests.post(self.url, headers=headers, json=payload)\n",
    "        response = response.json()\n",
    "        reply = response[\"choices\"][0][\"message\"][\"content\"]\n",
    "        return reply, response #return reply and the full response"
   ]
  },
  {
   "cell_type": "markdown",
   "id": "f0f9d7be-7dc2-4862-898c-ac4cad6b3394",
   "metadata": {},
   "source": [
    "Now we have an easy to use VLM class that wraps a multimodal NIM. \n",
    "\n",
    "Lets run some images against Neva, Kosmos and Fuyu to compare. "
   ]
  },
  {
   "cell_type": "markdown",
   "id": "826f9ec3-8644-4e93-b8c4-7b23cd50193e",
   "metadata": {},
   "source": [
    "### Part 2.3.1 Comparing VLMs"
   ]
  },
  {
   "cell_type": "code",
   "execution_count": 48,
   "id": "b01f1455-87ab-4d78-80fc-7abddbce102b",
   "metadata": {
    "tags": []
   },
   "outputs": [],
   "source": [
    "#Create a VLM object for each supported model \n",
    "neva = VLM(neva_api_url, api_key)"
   ]
  },
  {
   "cell_type": "markdown",
   "id": "5ae75e1b-6a12-4a4b-ab37-d92af04fbd69",
   "metadata": {},
   "source": [
    "Adjust the *custom_prompt* variable if you want to try different prompts.   \n",
    "Adjust the *image_path* variable if you want to try different images. "
   ]
  },
  {
   "cell_type": "code",
   "execution_count": 49,
   "id": "3271ed66-36a3-4a10-8625-8acb8cd3719d",
   "metadata": {
    "tags": []
   },
   "outputs": [],
   "source": [
    "custom_prompt = \"f'You are seeing brake pads in the image can you tell if they are having good grip on them\" #CHANGE ME\n",
    "image_path = testimage #CHANGE ME"
   ]
  },
  {
   "cell_type": "code",
   "execution_count": 50,
   "id": "f6d4d5a3-a992-4a42-b544-4f4d66e69c6d",
   "metadata": {
    "tags": []
   },
   "outputs": [
    {
     "name": "stdout",
     "output_type": "stream",
     "text": [
      "Neva Response: In the image you can see a cat sitting on a bed. There are no brake pads in the image.\n",
      "Neva Time: 1.1273276805877686 \n",
      "\n"
     ]
    }
   ],
   "source": [
    "#NEVA\n",
    "start_time = time()\n",
    "response, _ = neva(custom_prompt, image_path)\n",
    "print(f\"Neva Response: {response}\")\n",
    "print(f\"Neva Time: {time() - start_time} \\n\")"
   ]
  },
  {
   "cell_type": "code",
   "execution_count": null,
   "id": "095580c8-df3a-4ffe-95ee-40ca63634756",
   "metadata": {},
   "outputs": [],
   "source": []
  }
 ],
 "metadata": {
  "kernelspec": {
   "display_name": "Python 3.9",
   "language": "python",
   "name": "python3"
  },
  "language_info": {
   "codemirror_mode": {
    "name": "ipython",
    "version": 3
   },
   "file_extension": ".py",
   "mimetype": "text/x-python",
   "name": "python",
   "nbconvert_exporter": "python",
   "pygments_lexer": "ipython3",
   "version": "3.9.16"
  }
 },
 "nbformat": 4,
 "nbformat_minor": 5
}
